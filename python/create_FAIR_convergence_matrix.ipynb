{
 "cells": [
  {
   "cell_type": "code",
   "execution_count": null,
   "metadata": {},
   "outputs": [],
   "source": [
    "import pandas as pd\n",
    "import numpy as np"
   ]
  },
  {
   "cell_type": "code",
   "execution_count": null,
   "metadata": {},
   "outputs": [],
   "source": [
    "df = pd.read_csv(\"new_matrix.csv\")\n",
    "df.head(5)"
   ]
  },
  {
   "cell_type": "markdown",
   "metadata": {},
   "source": [
    "Create a new value column:\n",
    "\n",
    "Resourcetype:\n",
    "- available\n",
    "- to be developed\n",
    "- FAIR enabling resource -> why is this one not checked\n",
    "\n",
    "rel:\n",
    "- current use of\n",
    "- planned use of\n",
    "- planned replacement of\n",
    "\n",
    "Combinations used\n",
    "\n",
    "- Available + current use = 3\n",
    "- Available + planned use = 2\n",
    "- Available + planned replacement = 3\n",
    "\n",
    "- To be developed + current use = makes no sense = error = 1\n",
    "- To be developed + planned use = 1\n",
    "\n"
   ]
  },
  {
   "cell_type": "code",
   "execution_count": null,
   "metadata": {},
   "outputs": [],
   "source": [
    "d = {\n",
    "    ('https://w3id.org/fair/fip/terms/Available-FAIR-Enabling-Resource', 'https://w3id.org/fair/fip/terms/declares-current-use-of'): 3,\n",
    "    ('https://w3id.org/fair/fip/terms/Available-FAIR-Enabling-Resource', 'https://w3id.org/fair/fip/terms/declares-planned-replacement-of'): 3,\n",
    "    ('https://w3id.org/fair/fip/terms/Available-FAIR-Enabling-Resource', 'https://w3id.org/fair/fip/terms/declares-planned-use-of'): 2,\n",
    "    ('https://w3id.org/fair/fip/terms/FAIR-Enabling-Resource-to-be-Developed', 'https://w3id.org/fair/fip/terms/declares-current-use-of'): 1,\n",
    "    ('https://w3id.org/fair/fip/terms/FAIR-Enabling-Resource-to-be-Developed', 'https://w3id.org/fair/fip/terms/declares-planned-replacement-of'): 0,\n",
    "    ('https://w3id.org/fair/fip/terms/FAIR-Enabling-Resource-to-be-Developed', 'https://w3id.org/fair/fip/terms/declares-planned-use-of'): 1,\n",
    "    \n",
    "}\n",
    "\n",
    "def get_value(use, relation, d):\n",
    "    return d[(use, relation)] if (use, relation) in d.keys() else 0\n",
    "\n",
    "df['value'] = df.apply(lambda x: get_value(x['resourcetype'], x['rel'], d), axis=1)"
   ]
  },
  {
   "cell_type": "markdown",
   "metadata": {},
   "source": [
    "# Filtering\n",
    "\n",
    "CHANGE CELL BELOW: Filter the df, and re-assign to df variable. See example."
   ]
  },
  {
   "cell_type": "code",
   "execution_count": null,
   "metadata": {},
   "outputs": [],
   "source": [
    "df = df[df['c'].str.contains('A') ]"
   ]
  },
  {
   "cell_type": "code",
   "execution_count": null,
   "metadata": {},
   "outputs": [],
   "source": [
    "pivot = pd.pivot_table(df, values='value', columns=[\"c\", \"community\"], index=[\"sort\", \"question\", \"reslabel\", \"resource_id_used\"], aggfunc='min')\n",
    "pivot"
   ]
  },
  {
   "cell_type": "code",
   "execution_count": null,
   "metadata": {},
   "outputs": [],
   "source": [
    "import seaborn as sns\n",
    "import matplotlib.pyplot as plt"
   ]
  },
  {
   "cell_type": "code",
   "execution_count": null,
   "metadata": {},
   "outputs": [],
   "source": [
    "sns.set(rc={'figure.figsize':(200,200)})\n",
    "\n",
    "sns.heatmap(pivot, annot=True,cmap=\"Blues\", square=True )"
   ]
  },
  {
   "cell_type": "code",
   "execution_count": null,
   "metadata": {},
   "outputs": [],
   "source": [
    "pivot.to_excel(\"output/FAIR_convergence_matrix.xlsx\")"
   ]
  }
 ],
 "metadata": {
  "kernelspec": {
   "display_name": "fair-convergence-matrix-4CYjDeHB-py3.10",
   "language": "python",
   "name": "python3"
  },
  "language_info": {
   "codemirror_mode": {
    "name": "ipython",
    "version": 3
   },
   "file_extension": ".py",
   "mimetype": "text/x-python",
   "name": "python",
   "nbconvert_exporter": "python",
   "pygments_lexer": "ipython3",
   "version": "3.10.13"
  },
  "orig_nbformat": 4
 },
 "nbformat": 4,
 "nbformat_minor": 2
}
